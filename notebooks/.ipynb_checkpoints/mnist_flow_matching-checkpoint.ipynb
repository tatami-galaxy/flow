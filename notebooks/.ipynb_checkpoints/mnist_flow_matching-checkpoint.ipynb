{
 "cells": [
  {
   "cell_type": "code",
   "execution_count": 1,
   "metadata": {},
   "outputs": [],
   "source": [
    "import matplotlib.pyplot as plt\n",
    "from sklearn.datasets import make_moons\n",
    "from matplotlib.pyplot import imshow\n",
    "\n",
    "import torch \n",
    "from torch import nn, Tensor\n",
    "from torchvision import transforms\n",
    "from datasets import load_dataset"
   ]
  },
  {
   "cell_type": "code",
   "execution_count": 11,
   "metadata": {},
   "outputs": [],
   "source": [
    "# load mnist\n",
    "mnist = load_dataset(\"ylecun/mnist\")\n",
    "imshow(mnist['train'][0]['image'])"
   ]
  },
  {
   "cell_type": "code",
   "execution_count": 36,
   "metadata": {},
   "outputs": [],
   "source": [
    "# preprocessing\n",
    "batch_size = 64\n",
    "\n",
    "transform=transforms.Compose([\n",
    "    transforms.ToTensor(),\n",
    "    transforms.Normalize((0.1307,), (0.3081,))\n",
    "])\n",
    "\n",
    "# wrapper to apply transform\n",
    "class MNISTDataset():\n",
    "    def __init__(self, hf_dataset, transform=None):\n",
    "        self.dataset = hf_dataset\n",
    "        self.transform = transform\n",
    "\n",
    "    def __len__(self):\n",
    "        return len(self.dataset)\n",
    "\n",
    "    def __getitem__(self, idx):\n",
    "        image = self.dataset[idx]['image']\n",
    "        label = self.dataset[idx]['label']\n",
    "        image = self.transform(image)\n",
    "        return image, label\n",
    "\n",
    "train_dataset = MNISTDataset(mnist['train'], transform=transform)\n",
    "test_dataset = MNISTDataset(mnist['test'], transform=transform)\n",
    "\n",
    "train_loader = torch.utils.data.DataLoader(train_dataset, batch_size=batch_size, shuffle=True, drop_last=True)\n",
    "test_loader = torch.utils.data.DataLoader(test_dataset, batch_size=batch_size, drop_last=True)"
   ]
  },
  {
   "cell_type": "code",
   "execution_count": 37,
   "metadata": {},
   "outputs": [
    {
     "name": "stdout",
     "output_type": "stream",
     "text": [
      "torch.Size([64, 1, 28, 28])\n",
      "torch.Size([64])\n"
     ]
    },
    {
     "data": {
      "text/plain": [
       "<matplotlib.image.AxesImage at 0x7f6392ff7020>"
      ]
     },
     "execution_count": 37,
     "metadata": {},
     "output_type": "execute_result"
    },
    {
     "data": {
      "image/png": "[encoded data removed]",
      "text/plain": [
       "<Figure size 640x480 with 1 Axes>"
      ]
     },
     "metadata": {},
     "output_type": "display_data"
    }
   ],
   "source": [
    "# example : iterate over one batch\n",
    "for images, labels in train_loader:\n",
    "    print(images.shape)  # [64, 1, 28, 28]\n",
    "    print(labels.shape)  # [64]\n",
    "    break\n",
    "    \n",
    "imshow(transforms.functional.to_pil_image(images[5][0]))"
   ]
  },
  {
   "cell_type": "code",
   "execution_count": 63,
   "metadata": {},
   "outputs": [],
   "source": [
    "# flow model -> MLP\n",
    "vec_dim = 784\n",
    "hidden_dim = 2048\n",
    "\n",
    "class Flow(nn.Module):\n",
    "    def __init__(self, dim: int = vec_dim, h: int = hidden_dim):\n",
    "        super().__init__()\n",
    "        self.net = nn.Sequential(\n",
    "            nn.Linear(dim + 1, h), nn.ELU(),\n",
    "            nn.Linear(h, h), nn.ELU(),\n",
    "            nn.Linear(h, h), nn.ELU(),\n",
    "            nn.Linear(h, h), nn.ELU(),\n",
    "            nn.Linear(h, h), nn.ELU(),\n",
    "            nn.Linear(h, h), nn.ELU(),\n",
    "            nn.Linear(h, dim))\n",
    "    \n",
    "    def forward(self, t: Tensor, x_t: Tensor) -> Tensor:\n",
    "        # design choice\n",
    "        return self.net(torch.cat((t, x_t), -1))\n",
    "    \n",
    "    def step(self, x_t: Tensor, t_start: Tensor, t_end: Tensor) -> Tensor:\n",
    "        t_start = t_start.view(1, 1).expand(x_t.shape[0], 1)\n",
    "        # midpoint ODE solver\n",
    "        return x_t + (t_end - t_start) * self(t=t_start + (t_end - t_start) / 2, x_t= x_t + self(x_t=x_t, t=t_start) * (t_end - t_start) / 2)"
   ]
  },
  {
   "cell_type": "markdown",
   "metadata": {},
   "source": [
    "# Training"
   ]
  },
  {
   "cell_type": "code",
   "execution_count": 64,
   "metadata": {},
   "outputs": [],
   "source": [
    "device = 'cuda:0'"
   ]
  },
  {
   "cell_type": "code",
   "execution_count": 65,
   "metadata": {},
   "outputs": [
    {
     "name": "stdout",
     "output_type": "stream",
     "text": [
      "Epoch : 1 Loss : 1.487818957265693\n",
      "Epoch : 2 Loss : 1.3824286437976068\n",
      "Epoch : 3 Loss : 1.3497435629304215\n",
      "Epoch : 4 Loss : 1.3274322297809726\n",
      "Epoch : 5 Loss : 1.3070134467732564\n",
      "Epoch : 6 Loss : 1.280908215389435\n",
      "Epoch : 7 Loss : 1.253551381374754\n",
      "Epoch : 8 Loss : 1.2275153728025063\n",
      "Epoch : 9 Loss : 1.2022226256265711\n",
      "Epoch : 10 Loss : 1.1806316608553127\n",
      "Epoch : 11 Loss : 1.1597080814673018\n",
      "Epoch : 12 Loss : 1.1394312127295527\n",
      "Epoch : 13 Loss : 1.1221980752151066\n",
      "Epoch : 14 Loss : 1.1051369465275278\n",
      "Epoch : 15 Loss : 1.087811192682484\n",
      "Epoch : 16 Loss : 1.0730489362647464\n",
      "Epoch : 17 Loss : 1.0606303461206126\n",
      "Epoch : 18 Loss : 1.047604163720997\n",
      "Epoch : 19 Loss : 1.0335361997625745\n",
      "Epoch : 20 Loss : 1.0211594987068258\n"
     ]
    }
   ],
   "source": [
    "epochs = 20\n",
    "\n",
    "flow = Flow()\n",
    "flow.to(device)\n",
    "\n",
    "optimizer = torch.optim.Adam(flow.parameters(), 3e-5)\n",
    "loss_fn = nn.MSELoss()\n",
    "\n",
    "for epoch in range(epochs):\n",
    "    epoch_loss = 0 \n",
    "    for images, _ in train_loader:\n",
    "    \n",
    "        # flatten images\n",
    "        x_1 = images.reshape(batch_size, -1).to(device)\n",
    "        # noise\n",
    "        x_0 = torch.randn_like(x_1)\n",
    "        # time \n",
    "        t = torch.rand(len(x_1), 1).to(device)\n",
    "    \n",
    "        # linear interpolation\n",
    "        x_t = (1 - t) * x_0 + t * x_1\n",
    "        # velocity\n",
    "        dx_t = x_1 - x_0\n",
    "    \n",
    "        optimizer.zero_grad()\n",
    "        loss = loss_fn(flow(t=t, x_t=x_t), dx_t)\n",
    "        epoch_loss += loss.item()\n",
    "        loss.backward()\n",
    "        optimizer.step()\n",
    "        \n",
    "    print('Epoch : {} Loss : {}'.format(epoch+1, epoch_loss / len(train_loader)))"
   ]
  },
  {
   "cell_type": "markdown",
   "metadata": {},
   "source": [
    "# Sampling"
   ]
  },
  {
   "cell_type": "code",
   "execution_count": null,
   "metadata": {},
   "outputs": [],
   "source": [
    "n_steps = 8\n",
    "\n",
    "x = torch.randn(1, vec_dim).to('cuda')\n",
    "time_steps = torch.linspace(0, 1.0, n_steps + 1).to('cuda')\n",
    "\n",
    "# FIX\n",
    "for i in range(n_steps):\n",
    "    x = flow.step(x_t=x, t_start=time_steps[i], t_end=time_steps[i + 1])\n",
    "    image = x.reshape(-1, 28)\n",
    "    imshow(transforms.functional.to_pil_image(image))\n",
    "\n",
    "plt.tight_layout()\n",
    "plt.show()"
   ]
  },
  {
   "cell_type": "code",
   "execution_count": null,
   "metadata": {},
   "outputs": [],
   "source": []
  }
 ],
 "metadata": {
  "kernelspec": {
   "display_name": "Python 3 (ipykernel)",
   "language": "python",
   "name": "python3"
  },
  "language_info": {
   "codemirror_mode": {
    "name": "ipython",
    "version": 3
   },
   "file_extension": ".py",
   "mimetype": "text/x-python",
   "name": "python",
   "nbconvert_exporter": "python",
   "pygments_lexer": "ipython3",
   "version": "3.12.10"
  }
 },
 "nbformat": 4,
 "nbformat_minor": 4
}
