{
 "cells": [
  {
   "cell_type": "code",
   "execution_count": 7,
   "id": "9a9657a8-2326-4e57-90d3-e0198b6715c7",
   "metadata": {},
   "outputs": [],
   "source": [
    "from sonar.inference_pipelines.text import TextToEmbeddingModelPipeline\n",
    "from sonar.inference_pipelines.text import EmbeddingToTextModelPipeline"
   ]
  },
  {
   "cell_type": "code",
   "execution_count": 4,
   "id": "3b0e56f3-cbbe-40c2-9b0c-39ff67f05540",
   "metadata": {},
   "outputs": [
    {
     "name": "stderr",
     "output_type": "stream",
     "text": [
      "100%|██████████████████████████████████████| 2.85G/2.85G [02:46<00:00, 18.4MB/s]\n",
      "100%|██████████████████████████████████████| 4.63M/4.63M [00:01<00:00, 4.51MB/s]\n"
     ]
    }
   ],
   "source": [
    "t2vec_model = TextToEmbeddingModelPipeline(\n",
    "    encoder=\"text_sonar_basic_encoder\",\n",
    "    tokenizer=\"text_sonar_basic_encoder\"\n",
    ")"
   ]
  },
  {
   "cell_type": "code",
   "execution_count": 9,
   "id": "33004666-ee97-44db-8fc0-2bc86f2fce08",
   "metadata": {},
   "outputs": [],
   "source": [
    "vec2text_model = EmbeddingToTextModelPipeline(\n",
    "    decoder=\"text_sonar_basic_decoder\",\n",
    "    tokenizer=\"text_sonar_basic_encoder\"\n",
    ")"
   ]
  },
  {
   "cell_type": "code",
   "execution_count": null,
   "id": "3a403bc3-d74d-4bcf-94f8-4b503a842313",
   "metadata": {},
   "outputs": [],
   "source": []
  },
  {
   "cell_type": "code",
   "execution_count": 22,
   "id": "64fe428d-5614-43c4-8ec4-3d9919821b44",
   "metadata": {},
   "outputs": [],
   "source": [
    "sentences = ['My name is SONAR.', 'I can embed the sentences into vectoral space.']"
   ]
  },
  {
   "cell_type": "code",
   "execution_count": 23,
   "id": "d0733614-3817-428e-b335-e8556ea089c0",
   "metadata": {},
   "outputs": [
    {
     "name": "stdout",
     "output_type": "stream",
     "text": [
      "torch.Size([2, 1024])\n"
     ]
    }
   ],
   "source": [
    "embeddings = t2vec_model.predict(sentences, source_lang=\"eng_Latn\")\n",
    "print(embeddings.shape)"
   ]
  },
  {
   "cell_type": "code",
   "execution_count": 24,
   "id": "60e927d4-5f31-4f83-be9e-a64daac1eb10",
   "metadata": {},
   "outputs": [
    {
     "name": "stdout",
     "output_type": "stream",
     "text": [
      "['My name is SONAR.', 'I can embed the sentences into vector space.']\n"
     ]
    }
   ],
   "source": [
    "reconstructed = vec2text_model.predict(embeddings, target_lang=\"eng_Latn\", max_seq_len=512)\n",
    "# max_seq_len is a keyword argument passed to the fairseq2 BeamSearchSeq2SeqGenerator.\n",
    "print(reconstructed)"
   ]
  },
  {
   "cell_type": "code",
   "execution_count": null,
   "id": "21ec8f37-f9f9-4fde-aff4-6feffe6c5ac5",
   "metadata": {},
   "outputs": [],
   "source": []
  }
 ],
 "metadata": {
  "kernelspec": {
   "display_name": "Python 3 (ipykernel)",
   "language": "python",
   "name": "python3"
  },
  "language_info": {
   "codemirror_mode": {
    "name": "ipython",
    "version": 3
   },
   "file_extension": ".py",
   "mimetype": "text/x-python",
   "name": "python",
   "nbconvert_exporter": "python",
   "pygments_lexer": "ipython3",
   "version": "3.12.10"
  }
 },
 "nbformat": 4,
 "nbformat_minor": 5
}
